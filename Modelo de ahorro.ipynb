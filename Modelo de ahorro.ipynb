{
 "cells": [
  {
   "cell_type": "markdown",
   "metadata": {},
   "source": [
    "                                                                               # Romina Gutiérrez Cortés\n",
    "#### simple\n",
    "#### Compuesto\n",
    "####  Continuo "
   ]
  },
  {
   "cell_type": "markdown",
   "metadata": {},
   "source": [
    "# Simple"
   ]
  },
  {
   "cell_type": "code",
   "execution_count": 1,
   "metadata": {},
   "outputs": [],
   "source": [
    "#interés, i, c0, capital inicial, k, periodos\n",
    "\n",
    "def intSimpleCapital(capital, periodos, interes):\n",
    "    return  capital*(1 + periodos*interes)"
   ]
  },
  {
   "cell_type": "code",
   "execution_count": 2,
   "metadata": {},
   "outputs": [],
   "source": [
    "import numpy as np\n",
    "import matplotlib.pyplot as plt\n",
    "%matplotlib inline "
   ]
  },
  {
   "cell_type": "code",
   "execution_count": 3,
   "metadata": {},
   "outputs": [],
   "source": [
    "listaDeInteres= [.05,.1,.15,.2,.5]"
   ]
  },
  {
   "cell_type": "code",
   "execution_count": 6,
   "metadata": {},
   "outputs": [
    {
     "name": "stdout",
     "output_type": "stream",
     "text": [
      "16000.0 22000.0 28000.0 34000.0 70000.0 "
     ]
    }
   ],
   "source": [
    "# capital = $10,000\n",
    "periodos=12\n",
    "for interes in listaDeInteres:\n",
    "    print(intSimpleCapital(10000,periodos,interes),end = \" \")"
   ]
  },
  {
   "cell_type": "code",
   "execution_count": 21,
   "metadata": {},
   "outputs": [
    {
     "data": {
      "image/png": "[encoded data removed]",
      "text/plain": [
       "<Figure size 576x288 with 1 Axes>"
      ]
     },
     "metadata": {},
     "output_type": "display_data"
    }
   ],
   "source": [
    "periodos = [3,6,12,18]\n",
    "colores= [\"black\",\"red\",\"blue\",\"orange\"]\n",
    "plt.figure(figsize=(8,4))\n",
    "for indx,periodo in enumerate(periodos) : \n",
    "    for interes in listaDeInteres:\n",
    "        capitalx = intSimpleCapital(10000,periodo,interes)\n",
    "        plt.scatter([periodo], [capitalx], color= colores[indx],s=20)"
   ]
  },
  {
   "cell_type": "markdown",
   "metadata": {},
   "source": [
    "# Actividad simple"
   ]
  },
  {
   "cell_type": "code",
   "execution_count": 35,
   "metadata": {},
   "outputs": [],
   "source": [
    "def intSimpleCapital(capital, periodos, interes):\n",
    "    intSimpleCapital = (periodos/capital - 1 )/interes\n",
    "    if (intSimpleCapital - int(intSimpleCapital)) == 0:\n",
    "        return intSimpleCapital\n",
    "    else:\n",
    "        return int(intSimpleCapital) + 1"
   ]
  },
  {
   "cell_type": "code",
   "execution_count": 36,
   "metadata": {},
   "outputs": [
    {
     "data": {
      "text/plain": [
       "13"
      ]
     },
     "execution_count": 36,
     "metadata": {},
     "output_type": "execute_result"
    }
   ],
   "source": [
    "intSimpleCapital(10000, 11000, .008 )"
   ]
  },
  {
   "cell_type": "code",
   "execution_count": 37,
   "metadata": {},
   "outputs": [],
   "source": [
    "intereses = [.005, .008, .1, .15, .2]"
   ]
  },
  {
   "cell_type": "code",
   "execution_count": 38,
   "metadata": {},
   "outputs": [
    {
     "data": {
      "text/plain": [
       "array([0.001     , 0.00914286, 0.01728571, 0.02542857, 0.03357143,\n",
       "       0.04171429, 0.04985714, 0.058     , 0.06614286, 0.07428571,\n",
       "       0.08242857, 0.09057143, 0.09871429, 0.10685714, 0.115     ,\n",
       "       0.12314286, 0.13128571, 0.13942857, 0.14757143, 0.15571429,\n",
       "       0.16385714, 0.172     , 0.18014286, 0.18828571, 0.19642857,\n",
       "       0.20457143, 0.21271429, 0.22085714, 0.229     , 0.23714286,\n",
       "       0.24528571, 0.25342857, 0.26157143, 0.26971429, 0.27785714,\n",
       "       0.286     , 0.29414286, 0.30228571, 0.31042857, 0.31857143,\n",
       "       0.32671429, 0.33485714, 0.343     , 0.35114286, 0.35928571,\n",
       "       0.36742857, 0.37557143, 0.38371429, 0.39185714, 0.4       ])"
      ]
     },
     "execution_count": 38,
     "metadata": {},
     "output_type": "execute_result"
    }
   ],
   "source": [
    "import numpy as np\n",
    "lista_intereses = np.linspace(0.001, .4)\n",
    "lista_intereses"
   ]
  },
  {
   "cell_type": "code",
   "execution_count": 39,
   "metadata": {},
   "outputs": [
    {
     "data": {
      "text/plain": [
       "[40, 25, 2, 2, 1]"
      ]
     },
     "execution_count": 39,
     "metadata": {},
     "output_type": "execute_result"
    }
   ],
   "source": [
    "Simple = []\n",
    "for interes in intereses:\n",
    "    Simple.append(intSimpleCapital(10000, 12000, interes))\n",
    "Simple"
   ]
  },
  {
   "cell_type": "code",
   "execution_count": 40,
   "metadata": {},
   "outputs": [],
   "source": [
    "import matplotlib.pyplot as plt\n",
    "%matplotlib inline "
   ]
  },
  {
   "cell_type": "code",
   "execution_count": 43,
   "metadata": {},
   "outputs": [
    {
     "data": {
      "image/png": "[encoded data removed]",
      "text/plain": [
       "<Figure size 432x288 with 1 Axes>"
      ]
     },
     "metadata": {},
     "output_type": "display_data"
    }
   ],
   "source": [
    "plt.scatter(Simple, intereses)\n",
    "plt.show()"
   ]
  },
  {
   "cell_type": "code",
   "execution_count": 44,
   "metadata": {},
   "outputs": [],
   "source": [
    "SimpleL = []\n",
    "for interes in lista_intereses:\n",
    "    SimpleL.append(intSimpleCapital(10000, 12000, interes))"
   ]
  },
  {
   "cell_type": "code",
   "execution_count": 45,
   "metadata": {},
   "outputs": [
    {
     "data": {
      "image/png": "[encoded data removed]",
      "text/plain": [
       "<Figure size 432x288 with 1 Axes>"
      ]
     },
     "metadata": {},
     "output_type": "display_data"
    }
   ],
   "source": [
    "plt.scatter(SimpleL[1:], lista_intereses[1:], cmap = \"viridis_r\",\n",
    "            s = 15*np.array(SimpleL[1:] ), c = np.array(SimpleL[1:]),\n",
    "            lw = 0, alpha = 1)\n",
    "\n",
    "plt.grid()\n",
    "plt.show()"
   ]
  },
  {
   "cell_type": "code",
   "execution_count": 46,
   "metadata": {},
   "outputs": [
    {
     "data": {
      "text/plain": [
       "50"
      ]
     },
     "execution_count": 46,
     "metadata": {},
     "output_type": "execute_result"
    }
   ],
   "source": [
    "len(SimpleL)"
   ]
  },
  {
   "cell_type": "code",
   "execution_count": 47,
   "metadata": {},
   "outputs": [
    {
     "data": {
      "text/plain": [
       "array([220, 120,  80,  60,  50,  50,  40,  40,  30,  30,  30,  30,  20,\n",
       "        20,  20,  20,  20,  20,  20,  20,  20,  20,  20,  20,  10,  10,\n",
       "        10,  10,  10,  10,  10,  10,  10,  10,  10,  10,  10,  10,  10,\n",
       "        10,  10,  10,  10,  10,  10,  10,  10,  10,  10])"
      ]
     },
     "execution_count": 47,
     "metadata": {},
     "output_type": "execute_result"
    }
   ],
   "source": [
    "10*np.array(SimpleL[1:] )"
   ]
  },
  {
   "cell_type": "markdown",
   "metadata": {},
   "source": [
    "# Compuesto"
   ]
  },
  {
   "cell_type": "code",
   "execution_count": 23,
   "metadata": {},
   "outputs": [],
   "source": [
    "def intCompuestoCapital(capital, periodos, interes):\n",
    "    return capital * (1+interes)**periodos"
   ]
  },
  {
   "cell_type": "code",
   "execution_count": 24,
   "metadata": {},
   "outputs": [
    {
     "name": "stdout",
     "output_type": "stream",
     "text": [
      "17958.5632602213 31384.283767210032 53502.50105473706 89161.00448255996 1297463.37890625 "
     ]
    }
   ],
   "source": [
    "periodos=12\n",
    "for interes in listaDeInteres:\n",
    "    print(intCompuestoCapital(10000,periodos,interes),end = \" \")"
   ]
  },
  {
   "cell_type": "code",
   "execution_count": 29,
   "metadata": {},
   "outputs": [
    {
     "data": {
      "image/png": "[encoded data removed]",
      "text/plain": [
       "<Figure size 288x144 with 1 Axes>"
      ]
     },
     "metadata": {},
     "output_type": "display_data"
    }
   ],
   "source": [
    "periodos = [3,6,12,18]\n",
    "colores= [\"black\",\"red\",\"blue\",\"orange\"]\n",
    "plt.figure(figsize=(4,2))\n",
    "for indx,periodo in enumerate(periodos) : \n",
    "    for interes in listaDeInteres:\n",
    "        capitalx = intCompuestoCapital(10000,periodo,interes)\n",
    "        plt.scatter([periodo], [capitalx], color= colores[indx],s=20)"
   ]
  },
  {
   "cell_type": "code",
   "execution_count": null,
   "metadata": {},
   "outputs": [],
   "source": []
  },
  {
   "cell_type": "code",
   "execution_count": null,
   "metadata": {},
   "outputs": [],
   "source": []
  },
  {
   "cell_type": "code",
   "execution_count": null,
   "metadata": {},
   "outputs": [],
   "source": [
    "def intContinuo ():\n",
    "    return "
   ]
  },
  {
   "cell_type": "code",
   "execution_count": null,
   "metadata": {},
   "outputs": [],
   "source": []
  }
 ],
 "metadata": {
  "kernelspec": {
   "display_name": "Python 3",
   "language": "python",
   "name": "python3"
  },
  "language_info": {
   "codemirror_mode": {
    "name": "ipython",
    "version": 3
   },
   "file_extension": ".py",
   "mimetype": "text/x-python",
   "name": "python",
   "nbconvert_exporter": "python",
   "pygments_lexer": "ipython3",
   "version": "3.6.5"
  }
 },
 "nbformat": 4,
 "nbformat_minor": 2
}
